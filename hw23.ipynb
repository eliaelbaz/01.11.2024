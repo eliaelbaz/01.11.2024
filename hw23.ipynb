{
 "cells": [
  {
   "cell_type": "code",
   "execution_count": 1,
   "id": "dba4776b-a215-4bab-81e3-dc8f1c617879",
   "metadata": {},
   "outputs": [
    {
     "name": "stdout",
     "output_type": "stream",
     "text": [
      "Array 1-10: [ 1  2  3  4  5  6  7  8  9 10]\n",
      "Array 0.5 to 5.25: [0.5  0.75 1.   1.25 1.5  1.75 2.   2.25 2.5  2.75 3.   3.25 3.5  3.75\n",
      " 4.   4.25 4.5  4.75 5.  ]\n"
     ]
    }
   ],
   "source": [
    "import numpy as np\n",
    "\n",
    "# 1\n",
    "# a\n",
    "array_a = np.arange(1, 11)\n",
    "print(\"Array 1-10:\", array_a)\n",
    "# b\n",
    "array_b = np.arange(0.5, 5.25, 0.25)\n",
    "print(\"Array 0.5 to 5.25:\", array_b)"
   ]
  },
  {
   "cell_type": "code",
   "execution_count": 3,
   "id": "8bcfff65-a1ad-4446-aa3c-f2ca70ee394c",
   "metadata": {},
   "outputs": [
    {
     "name": "stdout",
     "output_type": "stream",
     "text": [
      "Zeros array (10 elements): [0. 0. 0. 0. 0. 0. 0. 0. 0. 0.]\n",
      "Zeros array (4x3):\n",
      "[[0. 0. 0.]\n",
      " [0. 0. 0.]\n",
      " [0. 0. 0.]\n",
      " [0. 0. 0.]]\n"
     ]
    }
   ],
   "source": [
    "# 2\n",
    "# a\n",
    "zeros_a = np.zeros(10)\n",
    "print(\"Zeros array (10 elements):\", zeros_a)\n",
    "# b\n",
    "zeros_b = np.zeros((4, 3))\n",
    "print(\"Zeros array (4x3):\")\n",
    "print(zeros_b)"
   ]
  },
  {
   "cell_type": "code",
   "execution_count": 5,
   "id": "dfb425b7-3f83-4ce3-8006-fb39def6afa1",
   "metadata": {},
   "outputs": [
    {
     "name": "stdout",
     "output_type": "stream",
     "text": [
      "Linspace array (2 to 12): [ 2.   4.5  7.   9.5 12. ]\n",
      "Linspace array (3 to 9): [3. 5. 7. 9.]\n"
     ]
    }
   ],
   "source": [
    "# 3\n",
    "# a \n",
    "linspace_a = np.linspace(2, 12, 5)\n",
    "print(\"Linspace array (2 to 12):\", linspace_a)\n",
    "# b\n",
    "linspace_b = np.linspace(3, 9, 4)\n",
    "print(\"Linspace array (3 to 9):\", linspace_b)"
   ]
  },
  {
   "cell_type": "code",
   "execution_count": 7,
   "id": "02ce6dfc-1224-4b00-9448-918f25aa7e9f",
   "metadata": {},
   "outputs": [
    {
     "name": "stdout",
     "output_type": "stream",
     "text": [
      "Random array (4x2):\n",
      "[[0.18274251 0.69355422]\n",
      " [0.11017427 0.14344126]\n",
      " [0.89891812 0.71488074]\n",
      " [0.99142372 0.53494605]]\n",
      "Random integer array (3x3):\n",
      "[[19 20 16]\n",
      " [20 20 11]\n",
      " [18 10 11]]\n",
      "Reshaped array (1x8):\n",
      "[[0.18274251 0.69355422 0.11017427 0.14344126 0.89891812 0.71488074\n",
      "  0.99142372 0.53494605]]\n"
     ]
    }
   ],
   "source": [
    "# 4\n",
    "# a\n",
    "random_a = np.random.rand(4, 2)\n",
    "print(\"Random array (4x2):\")\n",
    "print(random_a)\n",
    "\n",
    "# b\n",
    "random_b = np.random.randint(10, 21, (3, 3))\n",
    "print(\"Random integer array (3x3):\")\n",
    "print(random_b)\n",
    "\n",
    "reshaped_a = random_a.reshape(1, 8)\n",
    "print(\"Reshaped array (1x8):\")\n",
    "print(reshaped_a)"
   ]
  },
  {
   "cell_type": "code",
   "execution_count": 9,
   "id": "ce6d1947-e63d-4a1d-b93a-33e2ffd7e011",
   "metadata": {},
   "outputs": [
    {
     "name": "stdout",
     "output_type": "stream",
     "text": [
      "Array with seed:\n",
      "[[51 92 14]\n",
      " [71 60 20]\n",
      " [82 86 74]]\n"
     ]
    }
   ],
   "source": [
    "# 5\n",
    "np.random.seed(42)\n",
    "seed_array = np.random.randint(0, 100, (3, 3))\n",
    "print(\"Array with seed:\")\n",
    "print(seed_array)\n",
    "\n",
    "# seed מאפשר שחזור תוצאות אקראיות "
   ]
  },
  {
   "cell_type": "code",
   "execution_count": 11,
   "id": "d7e509af-bfcd-4caf-843b-83144d0ee528",
   "metadata": {},
   "outputs": [
    {
     "name": "stdin",
     "output_type": "stream",
     "text": [
      "Enter a number:  25\n",
      "Enter a number:  65\n",
      "Enter a number:  95\n",
      "Enter a number:  44\n",
      "Enter a number:  85\n"
     ]
    },
    {
     "name": "stdout",
     "output_type": "stream",
     "text": [
      "Maximum value: 95\n",
      "Minimum value: 25\n",
      "Array shape: (5,)\n",
      "Index of max value: 2\n",
      "Index of min value: 0\n"
     ]
    }
   ],
   "source": [
    "# 6\n",
    "# a\n",
    "user_list = [int(input(\"Enter a number: \")) for _ in range(5)]\n",
    "\n",
    "# b\n",
    "user_array = np.array(user_list)\n",
    "\n",
    "# c\n",
    "print(\"Maximum value:\", user_array.max())\n",
    "\n",
    "# d\n",
    "print(\"Minimum value:\", user_array.min())\n",
    "\n",
    "# e\n",
    "print(\"Array shape:\", user_array.shape)\n",
    "\n",
    "# f\n",
    "print(\"Index of max value:\", user_array.argmax())\n",
    "\n",
    "# g\n",
    "print(\"Index of min value:\", user_array.argmin())\n"
   ]
  }
 ],
 "metadata": {
  "kernelspec": {
   "display_name": "Python 3 (ipykernel)",
   "language": "python",
   "name": "python3"
  },
  "language_info": {
   "codemirror_mode": {
    "name": "ipython",
    "version": 3
   },
   "file_extension": ".py",
   "mimetype": "text/x-python",
   "name": "python",
   "nbconvert_exporter": "python",
   "pygments_lexer": "ipython3",
   "version": "3.12.7"
  }
 },
 "nbformat": 4,
 "nbformat_minor": 5
}
